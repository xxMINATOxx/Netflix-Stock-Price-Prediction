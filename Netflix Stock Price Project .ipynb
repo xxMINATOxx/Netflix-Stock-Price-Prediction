{
 "cells": [
  {
   "cell_type": "markdown",
   "id": "7d473326",
   "metadata": {},
   "source": [
    "# NETFLIX STOCK PRICE PREDICTION"
   ]
  },
  {
   "cell_type": "code",
   "execution_count": 2,
   "id": "e19cbfb5",
   "metadata": {},
   "outputs": [],
   "source": [
    "import pandas as pd \n",
    "import yfinance as yf \n",
    "import datetime\n",
    "from datetime import date, timedelta\n",
    "today = date.today()"
   ]
  },
  {
   "cell_type": "code",
   "execution_count": 3,
   "id": "aec5cfc9",
   "metadata": {},
   "outputs": [],
   "source": [
    "d1 = today.strftime(\"%Y-%m-%d\")"
   ]
  },
  {
   "cell_type": "code",
   "execution_count": 4,
   "id": "69f93536",
   "metadata": {},
   "outputs": [],
   "source": [
    "end_date =d1"
   ]
  },
  {
   "cell_type": "code",
   "execution_count": 5,
   "id": "ca123426",
   "metadata": {},
   "outputs": [],
   "source": [
    "d2=date.today()-timedelta(days=5000)\n"
   ]
  },
  {
   "cell_type": "code",
   "execution_count": 6,
   "id": "800b127c",
   "metadata": {},
   "outputs": [],
   "source": [
    "d2=d2.strftime(\"%Y-%m-%d\")"
   ]
  },
  {
   "cell_type": "code",
   "execution_count": 7,
   "id": "45583f52",
   "metadata": {},
   "outputs": [],
   "source": [
    "start_date =d2"
   ]
  },
  {
   "cell_type": "code",
   "execution_count": 8,
   "id": "4a930ba8",
   "metadata": {},
   "outputs": [],
   "source": [
    "data=yf.download('NFLX',start=start_date,end=end_date,progress=False)"
   ]
  },
  {
   "cell_type": "code",
   "execution_count": 9,
   "id": "3ced0e8b",
   "metadata": {},
   "outputs": [],
   "source": [
    "data[\"Date\"]=data.index"
   ]
  },
  {
   "cell_type": "code",
   "execution_count": 10,
   "id": "93e9d49a",
   "metadata": {},
   "outputs": [
    {
     "ename": "TypeError",
     "evalue": "'type' object is not subscriptable",
     "output_type": "error",
     "traceback": [
      "\u001b[1;31m---------------------------------------------------------------------------\u001b[0m",
      "\u001b[1;31mTypeError\u001b[0m                                 Traceback (most recent call last)",
      "\u001b[1;32m~\\AppData\\Local\\Temp\\ipykernel_22920\\1356306894.py\u001b[0m in \u001b[0;36m<module>\u001b[1;34m\u001b[0m\n\u001b[1;32m----> 1\u001b[1;33m \u001b[0mdata\u001b[0m\u001b[1;33m=\u001b[0m\u001b[0mdate\u001b[0m\u001b[1;33m[\u001b[0m\u001b[1;33m[\u001b[0m\u001b[1;34m\"Date\"\u001b[0m\u001b[1;33m,\u001b[0m\u001b[1;34m\"Open\"\u001b[0m\u001b[1;33m,\u001b[0m\u001b[1;34m\"High\"\u001b[0m\u001b[1;33m,\u001b[0m\u001b[1;34m\"Low\"\u001b[0m\u001b[1;33m,\u001b[0m\u001b[1;34m\"Close\"\u001b[0m\u001b[1;33m,\u001b[0m\u001b[1;34m\"Adj Close\"\u001b[0m\u001b[1;33m,\u001b[0m\u001b[1;34m\"Volume\"\u001b[0m\u001b[1;33m]\u001b[0m\u001b[1;33m]\u001b[0m\u001b[1;33m\u001b[0m\u001b[1;33m\u001b[0m\u001b[0m\n\u001b[0m",
      "\u001b[1;31mTypeError\u001b[0m: 'type' object is not subscriptable"
     ]
    }
   ],
   "source": [
    "data=date[[\"Date\",\"Open\",\"High\",\"Low\",\"Close\",\"Adj Close\",\"Volume\"]]"
   ]
  },
  {
   "cell_type": "code",
   "execution_count": null,
   "id": "4d231505",
   "metadata": {},
   "outputs": [],
   "source": [
    "data.reset_index(drop=True,inplace=True)"
   ]
  },
  {
   "cell_type": "code",
   "execution_count": null,
   "id": "68a98340",
   "metadata": {},
   "outputs": [],
   "source": [
    "data.tail()"
   ]
  },
  {
   "cell_type": "code",
   "execution_count": null,
   "id": "7fa8ed09",
   "metadata": {},
   "outputs": [],
   "source": [
    "import plotly.graph_objects as go"
   ]
  },
  {
   "cell_type": "code",
   "execution_count": null,
   "id": "ef5d152a",
   "metadata": {},
   "outputs": [],
   "source": [
    "figure = go.Figure(data=[go.Candlestick(x=data[\"Date\"],open=data[\"Open\"],high=data[\"High\"],low=data[\"Low\"],close=data[\"Close\"])])"
   ]
  },
  {
   "cell_type": "code",
   "execution_count": null,
   "id": "5d46fda2",
   "metadata": {},
   "outputs": [],
   "source": [
    "figure.update_layout(title=\"Netflix Stock Price Analysis\",xaxis_rangeslider_visible=False)\n",
    "figure.show()"
   ]
  },
  {
   "cell_type": "code",
   "execution_count": 14,
   "id": "454fcb45",
   "metadata": {},
   "outputs": [],
   "source": [
    "correlation=data.corr()"
   ]
  },
  {
   "cell_type": "code",
   "execution_count": 16,
   "id": "65ba1f1f",
   "metadata": {},
   "outputs": [
    {
     "name": "stdout",
     "output_type": "stream",
     "text": [
      "Open         0.999547\n",
      "High         0.999801\n",
      "Low          0.999783\n",
      "Close        1.000000\n",
      "Adj Close    1.000000\n",
      "Volume      -0.458216\n",
      "Name: Close, dtype: float64\n"
     ]
    }
   ],
   "source": [
    "print(correlation[\"Close\"])"
   ]
  },
  {
   "cell_type": "code",
   "execution_count": null,
   "id": "291d6520",
   "metadata": {},
   "outputs": [],
   "source": []
  },
  {
   "cell_type": "code",
   "execution_count": null,
   "id": "7e484948",
   "metadata": {},
   "outputs": [],
   "source": []
  },
  {
   "cell_type": "code",
   "execution_count": null,
   "id": "0089d3d9",
   "metadata": {},
   "outputs": [],
   "source": []
  },
  {
   "cell_type": "code",
   "execution_count": null,
   "id": "36a9a841",
   "metadata": {},
   "outputs": [],
   "source": []
  },
  {
   "cell_type": "code",
   "execution_count": null,
   "id": "b9a387bb",
   "metadata": {},
   "outputs": [],
   "source": []
  },
  {
   "cell_type": "code",
   "execution_count": null,
   "id": "a95beb82",
   "metadata": {},
   "outputs": [],
   "source": []
  },
  {
   "cell_type": "code",
   "execution_count": null,
   "id": "3b41d04a",
   "metadata": {},
   "outputs": [],
   "source": []
  },
  {
   "cell_type": "code",
   "execution_count": null,
   "id": "e00172ea",
   "metadata": {},
   "outputs": [],
   "source": []
  }
 ],
 "metadata": {
  "kernelspec": {
   "display_name": "Python 3 (ipykernel)",
   "language": "python",
   "name": "python3"
  },
  "language_info": {
   "codemirror_mode": {
    "name": "ipython",
    "version": 3
   },
   "file_extension": ".py",
   "mimetype": "text/x-python",
   "name": "python",
   "nbconvert_exporter": "python",
   "pygments_lexer": "ipython3",
   "version": "3.9.13"
  }
 },
 "nbformat": 4,
 "nbformat_minor": 5
}
